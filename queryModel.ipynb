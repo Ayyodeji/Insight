{
 "cells": [
  {
   "cell_type": "code",
   "execution_count": null,
   "metadata": {},
   "outputs": [],
   "source": [
    "import streamlit as st\n",
    "import os\n",
    "import pandas as pd\n",
    "from transformers import AutoTokenizer, AutoModelForQuestionAnswering\n",
    "from pandasai import PandasAI\n",
    "\n",
    "st.set_page_config(layout='wide')\n",
    "\n",
    "st.title(\"Insight powered by Transformers\")\n",
    "\n",
    "# Load the pre-trained transformer model and tokenizer\n",
    "model_name = \"bert-large-uncased-whole-word-masking-finetuned-squad\"  # Example model, replace with your desired model\n",
    "tokenizer = AutoTokenizer.from_pretrained(model_name)\n",
    "model = AutoModelForQuestionAnswering.from_pretrained(model_name)\n",
    "\n",
    "def chat_with_csv(df, prompt):\n",
    "    pandas_ai = PandasAI(model, tokenizer)\n",
    "    result = pandas_ai.run(df, prompt=prompt)\n",
    "    print(result)\n",
    "    return result\n",
    "\n",
    "input_csv = st.file_uploader(\"Upload your CSV file\", type=['csv'])\n",
    "\n",
    "if input_csv is not None:\n",
    "    col1, col2 = st.columns([1, 1])\n",
    "\n",
    "    with col1:\n",
    "        st.info(\"CSV Uploaded Successfully\")\n",
    "        data = pd.read_csv(input_csv)\n",
    "        st.dataframe(data, use_container_width=True)\n",
    "\n",
    "    with col2:\n",
    "        st.info(\"Chat Below\")\n",
    "\n",
    "        input_text = st.text_area(\"Enter your query\")\n",
    "\n",
    "        if input_text is not None:\n",
    "            if st.button(\"Chat with CSV\"):\n",
    "                st.info(\"Your Query: \" + input_text)\n",
    "                result = chat_with_csv(data, input_text)\n",
    "                st.success(result)"
   ]
  }
 ],
 "metadata": {
  "language_info": {
   "name": "python"
  },
  "orig_nbformat": 4
 },
 "nbformat": 4,
 "nbformat_minor": 2
}
